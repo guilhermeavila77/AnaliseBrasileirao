{
  "nbformat": 4,
  "nbformat_minor": 0,
  "metadata": {
    "colab": {
      "provenance": []
    },
    "kernelspec": {
      "name": "python3",
      "display_name": "Python 3"
    },
    "language_info": {
      "name": "python"
    }
  },
  "cells": [
    {
      "cell_type": "markdown",
      "source": [
        "### ***ANALISE INICIAL UTILIZANDO PYTHON BUSCANDO PADRÕES QUE POSSAM \"JUSTIFICAR\" UM RESULTADO QUE POSSAM AJUDAR NO DESEMPENHO DE UM TIME***"
      ],
      "metadata": {
        "id": "HfM4m738nzjI"
      }
    },
    {
      "cell_type": "markdown",
      "source": [
        "Conectando com o drive em que se encontra a base de dados\n",
        "\n",
        "* A base de dados foi retirada do site Kaggle \n",
        "https://www.kaggle.com/datasets/adaoduque/campeonato-brasileiro-de-futebol?resource=download\n",
        "\n"
      ],
      "metadata": {
        "id": "87u6K5DJnoUy"
      }
    },
    {
      "cell_type": "code",
      "source": [
        "from google.colab import drive\n",
        "drive.mount('/content/drive')"
      ],
      "metadata": {
        "id": "fmu-t3KbgVNL"
      },
      "execution_count": null,
      "outputs": []
    },
    {
      "cell_type": "markdown",
      "source": [
        "O primeiro passo é analizar as bases de dados e seus conteudos para que seja posivel se aprofundar na analise com o que temos"
      ],
      "metadata": {
        "id": "4BKlw00bo9hm"
      }
    },
    {
      "cell_type": "code",
      "execution_count": null,
      "metadata": {
        "id": "OwfQGER5esV1"
      },
      "outputs": [],
      "source": [
        "#Importando a biblioteca pandas para ser utilizada como ferramenta durante a analize\n",
        "import pandas as pd\n",
        "\n",
        "#Criando tabelas (Data frames ou DF) com as bases de dados\n",
        "fullTab = pd.read_csv(\"/content/drive/MyDrive/Curso analise de dados/campeonato-brasileiro-full.csv\", encoding=\"latin1\")\n",
        "display(fullTab)\n",
        "\n",
        "golTab = pd.read_csv(\"/content/drive/MyDrive/Curso analise de dados/campeonato-brasileiro-gols.csv\", encoding=\"latin1\")\n",
        "display(golTab)\n",
        "\n",
        "cardTab = pd.read_csv(\"/content/drive/MyDrive/Curso analise de dados/campeonato-brasileiro-cartoes.csv\", encoding=\"latin1\")\n",
        "display(cardTab)"
      ]
    },
    {
      "cell_type": "markdown",
      "source": [
        "Primeiro passo será criar um novo DF que possua apenas partidas com vencedores"
      ],
      "metadata": {
        "id": "EuVZzWAppwhN"
      }
    },
    {
      "cell_type": "code",
      "source": [
        "#Função para que filtra apenas linhas em que há um vencedor\n",
        "def filtroVencedor():\n",
        "  b = fullTab.query('vencedor != \"-\"')\n",
        "  return b"
      ],
      "metadata": {
        "id": "dGpY9Gw5jzR9"
      },
      "execution_count": 25,
      "outputs": []
    },
    {
      "cell_type": "code",
      "source": [
        "#Efetivamente criar um DF que contenha apenas partidas não empatadas\n",
        "winnerTab = filtroVencedor()\n",
        "\n",
        "winnerTab.info()"
      ],
      "metadata": {
        "id": "bBMzJRBclPSC"
      },
      "execution_count": null,
      "outputs": []
    },
    {
      "cell_type": "markdown",
      "source": [
        "Com o primeiro passo realizado, iremos verificar a relação entre jogar em casa e ganhar a partida"
      ],
      "metadata": {
        "id": "ouft6A9Cqz-u"
      }
    },
    {
      "cell_type": "code",
      "source": [
        "def filtroMandante():\n",
        "  b = fullTab.query('vencedor == mandante ')\n",
        "  return b\n",
        "  \n",
        "homeTab = filtroMandante()\n",
        "homeTab.info()"
      ],
      "metadata": {
        "id": "jCm6PStfqzVx"
      },
      "execution_count": null,
      "outputs": []
    },
    {
      "cell_type": "code",
      "source": [],
      "metadata": {
        "id": "rtPyfa8Pr438"
      },
      "execution_count": null,
      "outputs": []
    }
  ]
}